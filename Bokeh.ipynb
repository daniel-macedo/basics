{
 "cells": [
  {
   "cell_type": "markdown",
   "metadata": {},
   "source": [
    "## Interactive Data Visualization with Bokeh\n",
    "\n",
    "Pode usar dados de listas, numpy arrays, pandas"
   ]
  },
  {
   "cell_type": "code",
   "execution_count": 1,
   "metadata": {
    "collapsed": true
   },
   "outputs": [],
   "source": [
    "# Importando\n",
    "from bokeh.plotting import figure\n",
    "from bokeh.io import output_file, show\n"
   ]
  },
  {
   "cell_type": "code",
   "execution_count": null,
   "metadata": {
    "collapsed": true
   },
   "outputs": [],
   "source": [
    "#Importando um exemplo\n",
    "from bokeh.sampledata.iris import flowers as dfex "
   ]
  },
  {
   "cell_type": "code",
   "execution_count": 2,
   "metadata": {
    "collapsed": true
   },
   "outputs": [],
   "source": [
    "# Dados aleatórios\n",
    "x1 = [1.827, 2.156, 2.404, 2.2230000000000003, 2.53, 2.498, 1.926, 4.018, 2.513, 1.505, 2.612, 3.3710000000000004, 3.19, 2.977, 2.295, 2.6830000000000003, 1.943, 2.516, 2.089, 2.362, 1.6469999999999998, 2.373, 3.3710000000000004, 1.732]\n",
    "y1 = [90.2, 91.5, 93.4, 97.7, 84.6, 94.9, 98.7, 68.7, 81.7, 99.8, 88.3, 86.0, 83.5, 93.5, 81.4, 77.9, 96.2, 92.8, 98.5, 90.8, 98.2, 88.4, 96.5, 98.0]\n",
    "\n",
    "\n",
    "x2 = [5.172999999999999, 2.8160000000000003, 5.211, 5.9079999999999995, 2.505, 5.52, 4.058, 4.859, 2.342, 6.254, 2.334, 4.22, 4.967, 4.513999999999999, 4.62, 4.541, 5.6370000000000005, 5.841, 5.455, 7.069, 5.405, 5.737, 3.363, 4.89, 6.081, 1.841, 5.329, 5.33, 5.377999999999999, 4.45, 4.166, 2.642, 5.165, 4.5280000000000005, 4.697, 5.011, 4.388, 3.29, 3.264, 2.822, 4.968999999999999, 5.659, 3.24, 1.7919999999999998, 3.45, 5.2829999999999995, 3.885, 2.6630000000000003, 3.718]\n",
    "y2 = [48.8, 57.8, 22.8, 56.1, 88.1, 66.3, 59.6, 82.8, 63.9, 66.8, 44.1, 59.3, 40.1, 44.3, 65.3, 67.8, 57.0, 21.6, 65.8, 15.1, 18.2, 61.0, 88.8, 33.0, 21.9, 71.0, 26.4, 66.1, 28.1, 59.9, 53.7, 81.3, 28.9, 54.5, 41.1, 53.0, 49.5, 87.7, 95.1, 83.5, 34.3, 36.5, 83.2, 84.8, 85.6, 89.1, 67.8, 79.3, 83.3]\n"
   ]
  },
  {
   "cell_type": "code",
   "execution_count": 3,
   "metadata": {},
   "outputs": [],
   "source": [
    "#Dados Aleatórios Numpy\n",
    "import numpy as np\n",
    "nx = np.linspace(0, 5, 100)\n",
    "ny = np.cos(nx)"
   ]
  },
  {
   "cell_type": "code",
   "execution_count": null,
   "metadata": {},
   "outputs": [],
   "source": [
    "# Primeiro crie uma figura:\n",
    "p = figure(x_axis_type='datetime', # Muda o tipo do eixo x\n",
    "           x_axis_label='eixo Horizontal',\n",
    "           y_axis_label='eixo Vertical',\n",
    "           tools='box_select,lasso_select'     # Especifica o tipo de ferramentas\n",
    "          )    \n",
    "\n",
    "# Adiciona glyph marcador tipo círculo a figura p\n",
    "p.circle(x1,                 # Dados no eixo x\n",
    "         y1,                 # Dados no eixo y\n",
    "         color='white',        # Mudar a Cor do contorno\n",
    "         fill_color='red', # Muda a cor do preenchimento\n",
    "         size=10,            # Mudar o tamanho\n",
    "         alpha=0.8,          # Muda a transparência de 0.0 a 1.0\n",
    "         line_color=None,\n",
    "         selection_color ='green',  # Os itens selecionados ficam verdes     \n",
    "         nonselection_alpha=0.1,     #Os não selecionados\n",
    "         legend='Latin America'\n",
    "        )\n",
    "\n",
    "\n",
    "p.legend.location = 'bottom_left'\n",
    "p.legend.background_fill_color='lightgray'\n",
    "\n",
    "\n",
    "# Adiciona um glyph de cruz na figura p\n",
    "p.x(x2,y2)\n",
    "\n",
    "output_file('circulo.html')   #Específica o nome e a saída\n",
    "show(p) # Mostra o gráfico p"
   ]
  },
  {
   "cell_type": "markdown",
   "metadata": {},
   "source": [
    "Colors: hexadecimal strings, tuples of RGB values between 0 and 255, and any of the 147 CSS color names. http://www.colors.commutercreative.com/grid/\n",
    "\n",
    "Bokeh can plot floating point numbers, integers, and datetime data types"
   ]
  },
  {
   "cell_type": "markdown",
   "metadata": {},
   "source": [
    "Pode-se plotar um gráfico de linhas, junto com um gráfico de círculos, com os mesmos dados"
   ]
  },
  {
   "cell_type": "markdown",
   "metadata": {},
   "source": [
    "Tipo de Marcadores\n",
    "\n",
    "asterisk()\n",
    "circle()\n",
    "circle_cross()\n",
    "circle_x()\n",
    "cross()\n",
    "diamond()\n",
    "diamond_cross()\n",
    "inverted_triangle()\n",
    "square()\n",
    "square_cross()\n",
    "square_x()\n",
    "triangle()\n",
    "x()"
   ]
  },
  {
   "cell_type": "markdown",
   "metadata": {},
   "source": [
    "## Patches\n",
    "\n",
    "**Plota** formas geométricas, com base em uma lista de listas"
   ]
  },
  {
   "cell_type": "code",
   "execution_count": null,
   "metadata": {},
   "outputs": [],
   "source": [
    "p=figure()\n",
    "x = [ [1,1,2,2], [2,2,4], [2,2,3,3] ]\n",
    "y = [ [2,5,5,2], [3,5,5], [2,3,4,2] ]\n",
    "        \n",
    "p.patches(x, y,\n",
    "          line_color='white',\n",
    "          fill_color=['red', 'blue','green'],\n",
    "          )\n",
    "output_file('four_corners.html')\n",
    "#show(p)"
   ]
  },
  {
   "cell_type": "markdown",
   "metadata": {},
   "source": [
    "## Usando o dataframe do pandas"
   ]
  },
  {
   "cell_type": "code",
   "execution_count": 4,
   "metadata": {},
   "outputs": [],
   "source": [
    "import pandas as pd\n",
    "df = pd.read_csv('auto.csv')\n",
    "\n",
    "\n",
    "from bokeh.plotting import ColumnDataSource\n",
    "from bokeh.models import CategoricalColorMapper\n",
    "\n",
    "\n",
    "pz = figure(x_axis_label='HP', y_axis_label='MPG')\n",
    "\n",
    "\n",
    "#pz.circle(df['hp'], df['mpg'], color=df['color'], size=10) #Usei o Year nas cores apenas como exemplo\n",
    "\n",
    "#OU\n",
    "\n",
    "source = ColumnDataSource(df)\n",
    "\n",
    "color_mapper = CategoricalColorMapper(factors=['US', 'Asia', 'Europe'],\n",
    "                                      palette=['red', 'green', 'blue'])\n",
    "\n",
    "pz.circle('hp', 'mpg',\n",
    "         source=source ,    #Define a fonte\n",
    "            color=dict(field='origin', transform=color_mapper),\n",
    "            legend='origin')\n",
    "\n",
    "\n",
    "#p.circle('hp','mpg', source=source,color='color')\n",
    "\n",
    "output_file('auto-df.html')\n",
    "show(pz)"
   ]
  },
  {
   "cell_type": "markdown",
   "metadata": {},
   "source": [
    "## Hover"
   ]
  },
  {
   "cell_type": "code",
   "execution_count": 12,
   "metadata": {},
   "outputs": [],
   "source": [
    "from bokeh.models import HoverTool     # Para usar o Hovertool\n",
    "\n",
    "import pandas as pd\n",
    "df = pd.read_csv('glucose.csv')\n",
    "\n",
    "g1 = df.index\n",
    "g2 = df['glucose']\n",
    "\n",
    "p=figure()\n",
    "p.circle(g1, g2, size=10,\n",
    "         fill_color='grey', alpha=0.1, line_color=None,\n",
    "         hover_fill_color='firebrick', hover_alpha=0.5,\n",
    "         hover_line_color='white')\n",
    "\n",
    "hover = HoverTool(tooltips=None, mode='vline')\n",
    "\n",
    "'''tooltips=[('Country','@Country')], onde o @ indica o nome da coluna'''\n",
    "\n",
    "p.add_tools(hover)\n",
    "\n",
    "output_file('hover_glyph.html')\n",
    "show(p)\n"
   ]
  },
  {
   "cell_type": "markdown",
   "metadata": {},
   "source": [
    "## Vários gráficos\n",
    "## Row and Columns"
   ]
  },
  {
   "cell_type": "code",
   "execution_count": null,
   "metadata": {
    "collapsed": true
   },
   "outputs": [],
   "source": [
    "from bokeh.layouts import row\n",
    "from bokeh.layouts import column\n",
    "\n",
    "from bokeh.layouts import row, column\n",
    "\n",
    "p1=figure()\n",
    "p2=figure()\n",
    "p3=figure()\n",
    "p1.circle(x1,y1)         \n",
    "p2.circle(x2,y2)\n",
    "p3.line(nx, ny)\n",
    "\n",
    "p2.x_range = p1.x_range    # Coloca o range dos eixos igual entre eles\n",
    "p3.x_range = p1.x_range\n",
    "\n",
    "layout = row(p1,p2)\n",
    "output_file('row.html')\n",
    "show(layout)\n",
    "\n",
    "layout = column(p1,p2)\n",
    "output_file('column.html')\n",
    "show(layout)\n",
    "\n",
    "row2 = column([p1, p2], sizing_mode='scale_width')\n",
    "layout = row([p3, row2], sizing_mode='scale_width')\n",
    "output_file('layout_custom.html')\n",
    "show(layout)"
   ]
  },
  {
   "cell_type": "markdown",
   "metadata": {},
   "source": [
    "## Gridplot"
   ]
  },
  {
   "cell_type": "code",
   "execution_count": null,
   "metadata": {
    "collapsed": true
   },
   "outputs": [],
   "source": [
    "from bokeh.layouts import gridplot\n",
    "\n",
    "row1 = [None, p1]\n",
    "row2 = [p2, p3]\n",
    "\n",
    "layout = gridplot([row1, row2])\n",
    "output_file('grid.html')\n",
    "show(layout)"
   ]
  },
  {
   "cell_type": "markdown",
   "metadata": {},
   "source": [
    "## Tabbed\n",
    "Tabbed layouts são coleções de objetos **Panel**"
   ]
  },
  {
   "cell_type": "code",
   "execution_count": null,
   "metadata": {
    "collapsed": true
   },
   "outputs": [],
   "source": [
    "from bokeh.models.widgets import Panel\n",
    "from bokeh.models.widgets import Tabs\n",
    "\n",
    "tab1 = Panel(child=p1, title='texto A')\n",
    "tab2 = Panel(child=p2, title='texto B')\n",
    "\n",
    "layout = Tabs(tabs=[tab1, tab2])\n",
    "output_file('tabs.html')\n",
    "show(layout)"
   ]
  },
  {
   "cell_type": "markdown",
   "metadata": {},
   "source": [
    "## Sliders\n",
    "Para usar os sliders, precisa atualizar ele, criando uma função"
   ]
  },
  {
   "cell_type": "code",
   "execution_count": null,
   "metadata": {},
   "outputs": [],
   "source": [
    "#bokeh serve --show myapp.py\n",
    "\n",
    "from bokeh.io import curdoc\n",
    "from bokeh.layouts import widgetbox\n",
    "from bokeh.models import Slider\n",
    "\n",
    "\n",
    "def callback(attr, old, new):\n",
    "    scale = slider.value  #Lê o valor do Slider\n",
    "    new_y = np.sin(scale/x)\n",
    "    source.data = {'x': x, 'y': new_y} #Atualiza a fonte com o novo dado\n",
    "\n",
    "slider.on_change('value',callback) # Opeção de callback\n",
    "\n",
    "slider1 = Slider(title='my slider', start=0, end=10, step=0.1, value=2) #Setando o slider\n",
    "\n",
    "layout = column(widgetbox (slider1), p1)\n",
    "curdoc().add_root(layout)"
   ]
  },
  {
   "cell_type": "markdown",
   "metadata": {},
   "source": [
    "## Dropdowns\n",
    "Caixa de seleção"
   ]
  },
  {
   "cell_type": "code",
   "execution_count": null,
   "metadata": {},
   "outputs": [],
   "source": [
    "from bokeh.models import ColumnDataSource, Select\n",
    "\n",
    "# Create ColumnDataSource: source\n",
    "source = ColumnDataSource(data={\n",
    "    'x' : fertility,\n",
    "    'y' : female_literacy\n",
    "})\n",
    "\n",
    "# Create a new plot: plot\n",
    "plot = figure()\n",
    "\n",
    "# Add circles to the plot\n",
    "plot.circle('x', 'y', source=source)\n",
    "\n",
    "# Define a callback function: update_plot\n",
    "def update_plot(attr, old, new):\n",
    "    # If the new Selection is 'female_literacy', update 'y' to female_literacy\n",
    "    if new == 'female_literacy': \n",
    "        source.data = {\n",
    "            'x' : 'fertility',\n",
    "            'y' : 'female_literacy'\n",
    "        }\n",
    "    # Else, update 'y' to population\n",
    "    else:\n",
    "        source.data = {\n",
    "            'x' : 'fertility',\n",
    "            'y' : 'population'\n",
    "        }\n",
    "\n",
    "# Create a dropdown Select widget: select    \n",
    "select = Select(title=\"distribution\", options=['female_literacy', 'population'], value='female_literacy')\n",
    "\n",
    "# Attach the update_plot callback to the 'value' property of select\n",
    "select.on_change('value', update_plot)\n",
    "\n",
    "# Create layout and add to current document\n",
    "layout = row(select, plot)\n",
    "curdoc().add_root(layout)"
   ]
  }
 ],
 "metadata": {
  "kernelspec": {
   "display_name": "Python 3",
   "language": "python",
   "name": "python3"
  },
  "language_info": {
   "codemirror_mode": {
    "name": "ipython",
    "version": 3
   },
   "file_extension": ".py",
   "mimetype": "text/x-python",
   "name": "python",
   "nbconvert_exporter": "python",
   "pygments_lexer": "ipython3",
   "version": "3.6.2"
  }
 },
 "nbformat": 4,
 "nbformat_minor": 2
}
