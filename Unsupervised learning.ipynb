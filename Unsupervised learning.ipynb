{
 "cells": [
  {
   "cell_type": "code",
   "execution_count": 15,
   "metadata": {},
   "outputs": [],
   "source": [
    "import pandas as pd\n",
    "import numpy as np\n",
    "\n",
    "from sklearn import datasets\n",
    "import matplotlib.pyplot as plt\n",
    "from mpl_toolkits.mplot3d import Axes3D\n",
    "from sklearn.decomposition import PCA\n",
    "\n",
    "%matplotlib inline"
   ]
  },
  {
   "cell_type": "code",
   "execution_count": 17,
   "metadata": {},
   "outputs": [
    {
     "ename": "ModuleNotFoundError",
     "evalue": "No module named 'datasets'",
     "output_type": "error",
     "traceback": [
      "\u001b[1;31m---------------------------------------------------------------------------\u001b[0m",
      "\u001b[1;31mModuleNotFoundError\u001b[0m                       Traceback (most recent call last)",
      "\u001b[1;32m<ipython-input-17-fe533eb781cb>\u001b[0m in \u001b[0;36m<module>\u001b[1;34m()\u001b[0m\n\u001b[1;32m----> 1\u001b[1;33m \u001b[1;32mfrom\u001b[0m \u001b[0mdatasets\u001b[0m\u001b[1;33m.\u001b[0m\u001b[0mload_iris\u001b[0m \u001b[1;32mimport\u001b[0m \u001b[0mpoints\u001b[0m\u001b[1;33m,\u001b[0m \u001b[0mnew_points\u001b[0m\u001b[1;33m\u001b[0m\u001b[0m\n\u001b[0m",
      "\u001b[1;31mModuleNotFoundError\u001b[0m: No module named 'datasets'"
     ]
    }
   ],
   "source": [
    "from datasets.load_iris import points, new_points"
   ]
  },
  {
   "cell_type": "code",
   "execution_count": null,
   "metadata": {},
   "outputs": [],
   "source": [
    "# Import KMeans\n",
    "from sklearn.cluster import KMeans\n",
    "\n",
    "# Create a KMeans instance with 3 clusters: model\n",
    "model = KMeans(n_clusters=3)\n",
    "\n",
    "# Fit model to points\n",
    "model.fit(points)\n",
    "\n",
    "# Determine the cluster labels of new_points: labels\n",
    "labels = model.predict(new_points)"
   ]
  },
  {
   "cell_type": "code",
   "execution_count": null,
   "metadata": {},
   "outputs": [],
   "source": [
    "# Import pyplot\n",
    "import matplotlib.pyplot as plt\n",
    "\n",
    "# Assign the columns of new_points: xs and ys\n",
    "xs = new_points[:,0]\n",
    "ys = new_points[:,1]\n",
    "\n",
    "# Make a scatter plot of xs and ys, using labels to define the colors\n",
    "plt.scatter(xs, ys, c=labels, alpha=0.5)\n",
    "\n",
    "# Assign the cluster centers: centroids\n",
    "centroids = model.cluster_centers_\n",
    "\n",
    "# Assign the columns of centroids: centroids_x, centroids_y\n",
    "centroids_x = centroids[:,0]\n",
    "centroids_y = centroids[:,1]\n",
    "\n",
    "# Make a scatter plot of centroids_x and centroids_y\n",
    "plt.scatter(centroids_x, centroids_y, marker='D', s=50)\n",
    "plt.show()\n"
   ]
  },
  {
   "cell_type": "code",
   "execution_count": null,
   "metadata": {},
   "outputs": [],
   "source": []
  },
  {
   "cell_type": "markdown",
   "metadata": {},
   "source": [
    "### How many clusters of grain?\n",
    "Inertia\n",
    "\n",
    "\n",
    "samples containing the measurements (such as area, perimeter, length, and several others) of samples of grain\n"
   ]
  },
  {
   "cell_type": "code",
   "execution_count": null,
   "metadata": {},
   "outputs": [],
   "source": [
    "df = pd.read_csv('data/seeds_dataset.csv', sep=';', header=None, skiprows=1)\n",
    "seed_samples = np.array(df.iloc[:,:-1])\n",
    "seed_varieties = np.array(df.iloc[:,-1])\n",
    "\n",
    "ks = range(1, 6)\n",
    "inertias = []\n",
    "\n",
    "for k in ks:\n",
    "    model = KMeans(n_clusters=k)\n",
    "    model.fit(seed_samples)\n",
    "    inertias.append(model.inertia_)\n",
    "    \n",
    "# Plot ks vs inertias\n",
    "plt.plot(ks, inertias, '-o'), plt.xlabel('number of clusters, k'), plt.ylabel('inertia')\n",
    "plt.xticks(ks)\n",
    "plt.show()"
   ]
  },
  {
   "cell_type": "code",
   "execution_count": 130,
   "metadata": {},
   "outputs": [
    {
     "name": "stdout",
     "output_type": "stream",
     "text": [
      "varieties  Canadian  Kama  Rosa\n",
      "labels                         \n",
      "0                68     9     0\n",
      "1                 0     1    60\n",
      "2                 2    60    10\n"
     ]
    }
   ],
   "source": [
    "model = KMeans(n_clusters=3)\n",
    "\n",
    "# Using .fit_predict() is the same as using .fit() followed by .predict().\n",
    "labels = model.fit_predict(samples)\n",
    "\n",
    "df = pd.DataFrame({'labels': labels, 'varieties': varieties})\n",
    "ct = pd.crosstab(df['labels'], df['varieties'])\n",
    "\n",
    "print(ct)"
   ]
  },
  {
   "cell_type": "markdown",
   "metadata": {},
   "source": [
    "### Scaling fish data for clustering\n",
    "\n"
   ]
  },
  {
   "cell_type": "code",
   "execution_count": 151,
   "metadata": {},
   "outputs": [],
   "source": [
    "df = pd.read_csv('data/fish.csv', header=None)\n",
    "samples = df.iloc[:,1:]\n",
    "species = df.iloc[:,0]\n",
    "\n",
    "# Perform the necessary imports\n",
    "from sklearn.pipeline import make_pipeline\n",
    "from sklearn.preprocessing import StandardScaler\n",
    "from sklearn.cluster import KMeans\n",
    "\n",
    "# Create scaler: scaler\n",
    "scaler = StandardScaler()\n",
    "\n",
    "# Create KMeans instance: kmeans\n",
    "kmeans = KMeans(n_clusters=4)\n",
    "\n",
    "# Create pipeline: pipeline\n",
    "pipeline = make_pipeline(scaler, kmeans)"
   ]
  },
  {
   "cell_type": "code",
   "execution_count": 152,
   "metadata": {},
   "outputs": [
    {
     "name": "stdout",
     "output_type": "stream",
     "text": [
      "species  Bream  Pike  Roach  Smelt\n",
      "labels                            \n",
      "0           33     0      1      0\n",
      "1            1     0     19      1\n",
      "2            0    17      0      0\n",
      "3            0     0      0     13\n"
     ]
    }
   ],
   "source": [
    "# Fit the pipeline to samples\n",
    "pipeline.fit(samples)\n",
    "\n",
    "# Calculate the cluster labels: labels\n",
    "labels = pipeline.predict(samples)\n",
    "\n",
    "# Create a DataFrame with labels and species as columns: df\n",
    "df = pd.DataFrame({'labels':labels, 'species': species})\n",
    "\n",
    "# Create crosstab: ct\n",
    "ct = pd.crosstab(df['labels'],df['species'])\n",
    "\n",
    "# Display ct\n",
    "print(ct)\n"
   ]
  },
  {
   "cell_type": "code",
   "execution_count": null,
   "metadata": {},
   "outputs": [],
   "source": []
  },
  {
   "cell_type": "markdown",
   "metadata": {},
   "source": [
    "### Normalizer"
   ]
  },
  {
   "cell_type": "code",
   "execution_count": 165,
   "metadata": {},
   "outputs": [],
   "source": [
    "df = pd.read_csv('data/company-stock-movements-2010-2015-incl.csv')\n",
    "movements = df.iloc[:,1:]\n",
    "companies = df.iloc[:,0]"
   ]
  },
  {
   "cell_type": "code",
   "execution_count": 171,
   "metadata": {},
   "outputs": [
    {
     "name": "stdout",
     "output_type": "stream",
     "text": [
      "                             companies  labels\n",
      "21                               Honda       0\n",
      "45                                Sony       0\n",
      "48                              Toyota       0\n",
      "15                                Ford       0\n",
      "7                                Canon       0\n",
      "34                          Mitsubishi       0\n",
      "58                               Xerox       0\n",
      "2                               Amazon       0\n",
      "35                            Navistar       0\n",
      "28                           Coca Cola       1\n",
      "9                    Colgate-Palmolive       1\n",
      "38                               Pepsi       1\n",
      "23                                 IBM       2\n",
      "20                          Home Depot       2\n",
      "41                       Philip Morris       2\n",
      "44                        Schlumberger       2\n",
      "16                   General Electrics       2\n",
      "32                                  3M       2\n",
      "12                             Chevron       2\n",
      "10                      ConocoPhillips       2\n",
      "8                          Caterpillar       2\n",
      "53                       Valero Energy       2\n",
      "57                               Exxon       2\n",
      "13                   DuPont de Nemours       2\n",
      "40                      Procter Gamble       3\n",
      "39                              Pfizer       3\n",
      "54                            Walgreen       3\n",
      "25                   Johnson & Johnson       3\n",
      "27                      Kimberly-Clark       3\n",
      "56                            Wal-Mart       3\n",
      "36                    Northrop Grumman       4\n",
      "4                               Boeing       4\n",
      "29                     Lookheed Martin       4\n",
      "0                                Apple       5\n",
      "17                     Google/Alphabet       5\n",
      "59                               Yahoo       6\n",
      "24                               Intel       6\n",
      "51                   Texas instruments       6\n",
      "50  Taiwan Semiconductor Manufacturing       6\n",
      "47                            Symantec       6\n",
      "1                                  AIG       7\n",
      "26                      JPMorgan Chase       7\n",
      "3                     American express       7\n",
      "55                         Wells Fargo       7\n",
      "5                      Bank of America       7\n",
      "18                       Goldman Sachs       7\n",
      "6             British American Tobacco       8\n",
      "52                            Unilever       8\n",
      "49                               Total       8\n",
      "31                           McDonalds       8\n",
      "43                                 SAP       8\n",
      "42                   Royal Dutch Shell       8\n",
      "19                     GlaxoSmithKline       8\n",
      "37                            Novartis       8\n",
      "30                          MasterCard       8\n",
      "46                      Sanofi-Aventis       8\n",
      "33                           Microsoft       9\n",
      "14                                Dell       9\n",
      "22                                  HP       9\n",
      "11                               Cisco       9\n"
     ]
    }
   ],
   "source": [
    "from sklearn.preprocessing import Normalizer\n",
    "\n",
    "# Create a normalizer: normalizer\n",
    "normalizer = Normalizer()\n",
    "\n",
    "kmeans = KMeans(n_clusters=10)\n",
    "\n",
    "pipeline = make_pipeline(normalizer, kmeans)\n",
    "pipeline.fit(movements)\n",
    "\n",
    "labels = pipeline.predict(movements)\n",
    "\n",
    "df = pd.DataFrame({'labels': labels, 'companies': companies})\n",
    "\n",
    "print(df.sort_values('labels'))"
   ]
  },
  {
   "cell_type": "markdown",
   "metadata": {},
   "source": [
    "## Chapter 2\n",
    "### Hierarchical clustering of the grain data"
   ]
  },
  {
   "cell_type": "code",
   "execution_count": null,
   "metadata": {},
   "outputs": [],
   "source": [
    "# Perform the necessary imports\n",
    "from scipy.cluster.hierarchy import linkage, dendrogram\n",
    "import matplotlib.pyplot as plt\n",
    "\n",
    "# Calculate the linkage: mergings\n",
    "mergings = linkage(seed_samples, method='complete')\n",
    "\n",
    "# Plot the dendrogram, using varieties as labels\n",
    "dendrogram(mergings,\n",
    "           labels=varieties,\n",
    "           leaf_rotation=90,\n",
    "           leaf_font_size=6,\n",
    "          )\n",
    "plt.show()\n"
   ]
  },
  {
   "cell_type": "code",
   "execution_count": null,
   "metadata": {},
   "outputs": [],
   "source": [
    "# Import normalize\n",
    "from sklearn.preprocessing import normalize\n",
    "\n",
    "# Normalize the movements: normalized_movements\n",
    "normalized_movements = normalize(movements)\n",
    "\n",
    "# Calculate the linkage: mergings\n",
    "mergings = linkage(normalized_movements, method='complete')\n",
    "\n",
    "# Plot the dendrogram\n",
    "dendrogram(mergings,\n",
    "           labels=companies,\n",
    "           leaf_rotation=90,\n",
    "           leaf_font_size=6,\n",
    "          )\n",
    "plt.show()\n"
   ]
  },
  {
   "cell_type": "code",
   "execution_count": null,
   "metadata": {},
   "outputs": [],
   "source": []
  }
 ],
 "metadata": {
  "kernelspec": {
   "display_name": "Python 3",
   "language": "python",
   "name": "python3"
  },
  "language_info": {
   "codemirror_mode": {
    "name": "ipython",
    "version": 3
   },
   "file_extension": ".py",
   "mimetype": "text/x-python",
   "name": "python",
   "nbconvert_exporter": "python",
   "pygments_lexer": "ipython3",
   "version": "3.6.2"
  }
 },
 "nbformat": 4,
 "nbformat_minor": 2
}
