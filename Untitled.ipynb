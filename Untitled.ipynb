{
 "cells": [
  {
   "cell_type": "code",
   "execution_count": 1,
   "metadata": {},
   "outputs": [
    {
     "ename": "RuntimeError",
     "evalue": "bokeh sample data directory does not exist, please execute bokeh.sampledata.download()",
     "output_type": "error",
     "traceback": [
      "\u001b[1;31m---------------------------------------------------------------------------\u001b[0m",
      "\u001b[1;31mRuntimeError\u001b[0m                              Traceback (most recent call last)",
      "\u001b[1;32m<ipython-input-1-fa195e82f42e>\u001b[0m in \u001b[0;36m<module>\u001b[1;34m()\u001b[0m\n\u001b[0;32m      1\u001b[0m \u001b[1;32mimport\u001b[0m \u001b[0mpandas\u001b[0m \u001b[1;32mas\u001b[0m \u001b[0mpd\u001b[0m\u001b[1;33m\u001b[0m\u001b[0m\n\u001b[0;32m      2\u001b[0m \u001b[1;33m\u001b[0m\u001b[0m\n\u001b[1;32m----> 3\u001b[1;33m \u001b[1;32mfrom\u001b[0m \u001b[0mbokeh\u001b[0m\u001b[1;33m.\u001b[0m\u001b[0msampledata\u001b[0m\u001b[1;33m.\u001b[0m\u001b[0mglucose\u001b[0m \u001b[1;32mimport\u001b[0m \u001b[0mdata\u001b[0m\u001b[1;33m\u001b[0m\u001b[0m\n\u001b[0m\u001b[0;32m      4\u001b[0m \u001b[1;32mfrom\u001b[0m \u001b[0mbokeh\u001b[0m\u001b[1;33m.\u001b[0m\u001b[0mplotting\u001b[0m \u001b[1;32mimport\u001b[0m \u001b[1;33m*\u001b[0m\u001b[1;33m\u001b[0m\u001b[0m\n\u001b[0;32m      5\u001b[0m \u001b[1;33m\u001b[0m\u001b[0m\n",
      "\u001b[1;32m~\\Anaconda3\\lib\\site-packages\\bokeh\\sampledata\\glucose.py\u001b[0m in \u001b[0;36m<module>\u001b[1;34m()\u001b[0m\n\u001b[0;32m      9\u001b[0m \u001b[1;32mfrom\u001b[0m \u001b[1;33m.\u001b[0m \u001b[1;32mimport\u001b[0m \u001b[0m_data_dir\u001b[0m\u001b[1;33m\u001b[0m\u001b[0m\n\u001b[0;32m     10\u001b[0m \u001b[1;33m\u001b[0m\u001b[0m\n\u001b[1;32m---> 11\u001b[1;33m \u001b[0mdata_dir\u001b[0m \u001b[1;33m=\u001b[0m \u001b[0m_data_dir\u001b[0m\u001b[1;33m(\u001b[0m\u001b[1;33m)\u001b[0m\u001b[1;33m\u001b[0m\u001b[0m\n\u001b[0m\u001b[0;32m     12\u001b[0m \u001b[1;33m\u001b[0m\u001b[0m\n\u001b[0;32m     13\u001b[0m data = pd.read_csv(\n",
      "\u001b[1;32m~\\Anaconda3\\lib\\site-packages\\bokeh\\sampledata\\__init__.py\u001b[0m in \u001b[0;36m_data_dir\u001b[1;34m(file_name, create)\u001b[0m\n\u001b[0;32m     36\u001b[0m     \u001b[1;32mif\u001b[0m \u001b[1;32mnot\u001b[0m \u001b[0mexists\u001b[0m\u001b[1;33m(\u001b[0m\u001b[0mdata_dir\u001b[0m\u001b[1;33m)\u001b[0m\u001b[1;33m:\u001b[0m\u001b[1;33m\u001b[0m\u001b[0m\n\u001b[0;32m     37\u001b[0m         \u001b[1;32mif\u001b[0m \u001b[1;32mnot\u001b[0m \u001b[0mcreate\u001b[0m\u001b[1;33m:\u001b[0m\u001b[1;33m\u001b[0m\u001b[0m\n\u001b[1;32m---> 38\u001b[1;33m             \u001b[1;32mraise\u001b[0m \u001b[0mRuntimeError\u001b[0m\u001b[1;33m(\u001b[0m\u001b[1;34m'bokeh sample data directory does not exist, please execute bokeh.sampledata.download()'\u001b[0m\u001b[1;33m)\u001b[0m\u001b[1;33m\u001b[0m\u001b[0m\n\u001b[0m\u001b[0;32m     39\u001b[0m         \u001b[0mprint\u001b[0m\u001b[1;33m(\u001b[0m\u001b[1;34m\"Creating %s directory\"\u001b[0m \u001b[1;33m%\u001b[0m \u001b[0mdata_dir\u001b[0m\u001b[1;33m)\u001b[0m\u001b[1;33m\u001b[0m\u001b[0m\n\u001b[0;32m     40\u001b[0m         \u001b[1;32mtry\u001b[0m\u001b[1;33m:\u001b[0m\u001b[1;33m\u001b[0m\u001b[0m\n",
      "\u001b[1;31mRuntimeError\u001b[0m: bokeh sample data directory does not exist, please execute bokeh.sampledata.download()"
     ]
    }
   ],
   "source": [
    "import pandas as pd\n",
    "\n",
    "from bokeh.sampledata.glucose import data\n",
    "from bokeh.plotting import *\n",
    "\n",
    "output_file(\"glucose.html\", title=\"glucose.py example\")\n",
    "\n",
    "TOOLS = \"pan,wheel_zoom,box_zoom,reset,save\"\n",
    "\n",
    "p1 = figure(x_axis_type=\"datetime\", tools=TOOLS)\n",
    "\n",
    "p1.line(data.index, data['glucose'], color='red', legend='glucose')\n",
    "p1.line(data.index, data['isig'], color='blue', legend='isig')\n",
    "\n",
    "p1.title = \"Glucose Measurements\"\n",
    "p1.xaxis.axis_label = 'Date'\n",
    "p1.yaxis.axis_label = 'Value'\n",
    "\n",
    "day = data.ix['2010-10-06']\n",
    "highs = day[day['glucose'] > 180]\n",
    "lows = day[day['glucose'] < 80]\n",
    "\n",
    "p2 = figure(x_axis_type=\"datetime\", tools=TOOLS)\n",
    "\n",
    "p2.line(day.index.to_series(), day['glucose'],\n",
    "    line_color=\"gray\", line_dash=\"4 4\", line_width=1, legend=\"glucose\")\n",
    "p2.circle(highs.index, highs['glucose'], size=6, color='tomato', legend=\"high\")\n",
    "p2.circle(lows.index, lows['glucose'], size=6, color='navy', legend=\"low\")\n",
    "\n",
    "p2.title = \"Glucose Range\"\n",
    "p2.xgrid[0].grid_line_color=None\n",
    "p2.ygrid[0].grid_line_alpha=0.5\n",
    "p2.xaxis.axis_label = 'Time'\n",
    "p2.yaxis.axis_label = 'Value'\n",
    "\n",
    "data['inrange'] = (data['glucose'] < 180) & (data['glucose'] > 80)\n",
    "window = 30.5*288 #288 is average number of samples in a month\n",
    "inrange = pd.rolling_sum(data.inrange, window)\n",
    "inrange = inrange.dropna()\n",
    "inrange = inrange/float(window)\n",
    "\n",
    "p3 = figure(x_axis_type=\"datetime\", tools=TOOLS)\n",
    "\n",
    "p3.line(inrange.index, inrange, line_color=\"navy\")\n",
    "\n",
    "p3.title = \"Glucose In-Range Rolling Sum\"\n",
    "p3.xaxis.axis_label = 'Date'\n",
    "p3.yaxis.axis_label = 'Proportion In-Range'\n",
    "\n",
    "show(vplot(p1,p2,p3))"
   ]
  }
 ],
 "metadata": {
  "kernelspec": {
   "display_name": "Python 3",
   "language": "python",
   "name": "python3"
  },
  "language_info": {
   "codemirror_mode": {
    "name": "ipython",
    "version": 3
   },
   "file_extension": ".py",
   "mimetype": "text/x-python",
   "name": "python",
   "nbconvert_exporter": "python",
   "pygments_lexer": "ipython3",
   "version": "3.6.2"
  }
 },
 "nbformat": 4,
 "nbformat_minor": 2
}
