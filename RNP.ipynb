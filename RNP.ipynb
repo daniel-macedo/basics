{
 "cells": [
  {
   "cell_type": "code",
   "execution_count": 31,
   "metadata": {},
   "outputs": [],
   "source": [
    "import requests\n",
    "from bs4 import BeautifulSoup\n",
    "import urllib.request\n",
    "import urllib.parse"
   ]
  },
  {
   "cell_type": "code",
   "execution_count": 45,
   "metadata": {},
   "outputs": [],
   "source": [
    "def escrever_pagina(pags):\n",
    "    ID_N=''\n",
    "    scrap = requests.get(pags).text\n",
    "    soup = BeautifulSoup(scrap, 'html.parser')\n",
    "    table = soup.find('div', {'class': 'alertasFraude'})\n",
    "\n",
    "    rows = table.findAll('tr')\n",
    "    for tr in rows:\n",
    "\n",
    "        t = []\n",
    "\n",
    "        cols = tr.findAll('th')\n",
    "        for td in cols:\n",
    "            text = td.find(text=True)\n",
    "            t.append(text)\n",
    "            \n",
    "            esquerda = text[:2]\n",
    "            if esquerda == 'ID':\n",
    "                ID_N = text[4-len(text):]\n",
    "\n",
    "                \n",
    "        cols = tr.findAll('td')\n",
    "        for td in cols:\n",
    "\n",
    "            text = td.find(text=True)\n",
    "       \n",
    "            for a in td.find_all('a'):\n",
    "                text= (a.get('href'))\n",
    "                direita = text[-3:]\n",
    "                if direita == 'txt':\n",
    "                    File_N = text\n",
    "                    donwload_txt(File_N, ID_N)\n",
    "\n",
    "            if (text != None) and (text != '\\n'):\n",
    "                t.append(text)\n",
    "\n",
    "        with open('RNP.csv', 'a', encoding='utf-8') as f:\n",
    "            for col in t:\n",
    "                f.write('{0};'.format(col))\n",
    "            f.write('\\n')"
   ]
  },
  {
   "cell_type": "code",
   "execution_count": 53,
   "metadata": {},
   "outputs": [],
   "source": [
    "def donwload_txt(file,ID):\n",
    "    \n",
    "    raiz= \"https://iframe-memoria.rnp.br\"\n",
    "    \n",
    "    url = raiz + file\n",
    "\n",
    "    \n",
    "\n",
    "    url = urllib.parse.urlsplit(url)\n",
    "    url = list(url)\n",
    "    url[2] = urllib.parse.quote(url[2])\n",
    "    url = urllib.parse.urlunsplit(url)\n",
    "    \n",
    "    file_name = url.split('/')[-1]\n",
    "    \n",
    "    file = 'C:/Temp/#ID_' + ID + '.txt'\n",
    "    \n",
    "    \n",
    "    \n",
    "    try:\n",
    "        urllib.request.urlretrieve (url, file)\n",
    "    except:\n",
    "        with open('C:/Temp/#ID_' + ID + '___error.txt', 'w', encoding='utf-8') as f:\n",
    "            f.write('*'*50 + '\\n')\n",
    "            f.write('*' + ' ' *48 + '*\\n')\n",
    "            \n",
    "            f.write('*' + ' '*13)\n",
    "            f.write('Documento Inexistente')\n",
    "            f.write(' '*14 +'*\\n')\n",
    "            \n",
    "            f.write('*' + ' ' *48 + '*\\n')\n",
    "            f.write('*'*50)\n",
    "               \n",
    "    \n",
    "    #urllib.request.urlretrieve (url, '#ID_' + ID + file_name)\n"
   ]
  },
  {
   "cell_type": "code",
   "execution_count": null,
   "metadata": {},
   "outputs": [],
   "source": [
    "#tag=3 - tipo do banco\n",
    "\n",
    "for i in range(1,135):\n",
    "    page = 'https://iframe-memoria.rnp.br/cais/fraudes.php?ano=&mes=&pag=' + str(i) + '&busca=&tag_extend=&tag=3'\n",
    "    escrever_pagina(page)"
   ]
  },
  {
   "cell_type": "code",
   "execution_count": null,
   "metadata": {
    "collapsed": true
   },
   "outputs": [],
   "source": [
    "#Yet another one, with a \"progressbar\"\n",
    "\n",
    "import urllib2\n",
    "\n",
    "url = \"http://download.thinkbroadband.com/10MB.zip\"\n",
    "\n",
    "file_name = url.split('/')[-1]\n",
    "u = urllib2.urlopen(url)\n",
    "f = open(file_name, 'wb')\n",
    "meta = u.info()\n",
    "file_size = int(meta.getheaders(\"Content-Length\")[0])\n",
    "print \"Downloading: %s Bytes: %s\" % (file_name, file_size)\n",
    "\n",
    "file_size_dl = 0\n",
    "block_sz = 8192\n",
    "while True:\n",
    "    buffer = u.read(block_sz)\n",
    "    if not buffer:\n",
    "        break\n",
    "\n",
    "    file_size_dl += len(buffer)\n",
    "    f.write(buffer)\n",
    "    status = r\"%10d  [%3.2f%%]\" % (file_size_dl, file_size_dl * 100. / file_size)\n",
    "    status = status + chr(8)*(len(status)+1)\n",
    "    print status,\n",
    "\n",
    "f.close()"
   ]
  }
 ],
 "metadata": {
  "kernelspec": {
   "display_name": "Python 3",
   "language": "python",
   "name": "python3"
  },
  "language_info": {
   "codemirror_mode": {
    "name": "ipython",
    "version": 3
   },
   "file_extension": ".py",
   "mimetype": "text/x-python",
   "name": "python",
   "nbconvert_exporter": "python",
   "pygments_lexer": "ipython3",
   "version": "3.6.2"
  }
 },
 "nbformat": 4,
 "nbformat_minor": 2
}
